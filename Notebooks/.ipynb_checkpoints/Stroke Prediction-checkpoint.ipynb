{
 "cells": [
  {
   "cell_type": "markdown",
   "metadata": {},
   "source": [
    "<center><h1 class=\"list-group-item list-group-item-success\">Stroke Prediction</center>\n",
    "<img src = \"https://topnews.in/healthcare/sites/default/files/styles/large/public/Stroke7.jpg?itok=xInaWFYK\">\n",
    "    \n",
    "### Context\n",
    "According to the World Health Organization (WHO) stroke is the 2nd leading cause of death globally, responsible for approximately 11% of total deaths.\n",
    "This dataset is used to predict whether a patient is likely to get stroke based on the input parameters like gender, age, various diseases, and smoking status. Each row in the data provides relavant information about the patient."
   ]
  },
  {
   "cell_type": "code",
   "execution_count": 1,
   "metadata": {
    "_kg_hide-input": true,
    "_kg_hide-output": true
   },
   "outputs": [
    {
     "name": "stdout",
     "output_type": "stream",
     "text": [
      "Requirement already satisfied: pycaret in d:\\anaconda\\lib\\site-packages (2.2.3)\n",
      "Requirement already satisfied: joblib in d:\\anaconda\\lib\\site-packages (from pycaret) (1.0.1)\n"
     ]
    },
    {
     "name": "stderr",
     "output_type": "stream",
     "text": [
      "The system cannot find the path specified.\n"
     ]
    },
    {
     "name": "stdout",
     "output_type": "stream",
     "text": [
      "Requirement already satisfied: pandas in d:\\anaconda\\lib\\site-packages (from pycaret) (1.2.3)\n",
      "Requirement already satisfied: textblob in d:\\anaconda\\lib\\site-packages (from pycaret) (0.15.3)\n",
      "Requirement already satisfied: mlflow in d:\\anaconda\\lib\\site-packages (from pycaret) (1.13.1)\n",
      "Requirement already satisfied: xgboost>=1.1.0 in d:\\anaconda\\lib\\site-packages (from pycaret) (1.3.3)\n",
      "Requirement already satisfied: matplotlib in d:\\anaconda\\lib\\site-packages (from pycaret) (3.3.4)\n",
      "Requirement already satisfied: plotly>=4.4.1 in d:\\anaconda\\lib\\site-packages (from pycaret) (4.14.3)\n",
      "Requirement already satisfied: numpy>=1.17 in d:\\anaconda\\lib\\site-packages (from pycaret) (1.18.4)\n",
      "Requirement already satisfied: scikit-learn==0.23.2 in d:\\anaconda\\lib\\site-packages (from pycaret) (0.23.2)\n",
      "Requirement already satisfied: pyLDAvis in d:\\anaconda\\lib\\site-packages (from pycaret) (3.2.0)\n",
      "Requirement already satisfied: wordcloud in d:\\anaconda\\lib\\site-packages (from pycaret) (1.8.1)\n",
      "Requirement already satisfied: seaborn in d:\\anaconda\\lib\\site-packages (from pycaret) (0.11.1)\n",
      "Requirement already satisfied: pandas-profiling>=2.8.0 in d:\\anaconda\\lib\\site-packages (from pycaret) (2.10.1)\n",
      "Requirement already satisfied: IPython in d:\\anaconda\\lib\\site-packages (from pycaret) (7.21.0)\n",
      "Requirement already satisfied: nltk in d:\\anaconda\\lib\\site-packages (from pycaret) (3.5)\n",
      "Requirement already satisfied: lightgbm>=2.3.1 in d:\\anaconda\\lib\\site-packages (from pycaret) (3.1.1)\n",
      "Requirement already satisfied: cufflinks>=0.17.0 in d:\\anaconda\\lib\\site-packages (from pycaret) (0.17.3)\n",
      "Requirement already satisfied: scikit-plot in d:\\anaconda\\lib\\site-packages (from pycaret) (0.3.7)\n",
      "Requirement already satisfied: gensim in d:\\anaconda\\lib\\site-packages (from pycaret) (3.8.3)\n",
      "Requirement already satisfied: yellowbrick>=1.0.1 in d:\\anaconda\\lib\\site-packages (from pycaret) (1.3)\n",
      "Requirement already satisfied: kmodes>=0.10.1 in d:\\anaconda\\lib\\site-packages (from pycaret) (0.11.0)\n",
      "Requirement already satisfied: umap-learn in d:\\anaconda\\lib\\site-packages (from pycaret) (0.5.1)\n",
      "Requirement already satisfied: ipywidgets in d:\\anaconda\\lib\\site-packages (from pycaret) (7.6.3)\n",
      "Requirement already satisfied: mlxtend in d:\\anaconda\\lib\\site-packages (from pycaret) (0.18.0)\n",
      "Requirement already satisfied: pyod in d:\\anaconda\\lib\\site-packages (from pycaret) (0.8.6)\n",
      "Requirement already satisfied: spacy in c:\\users\\sathish\\appdata\\roaming\\python\\python38\\site-packages (from pycaret) (3.0.1)\n",
      "Requirement already satisfied: catboost>=0.23.2 in d:\\anaconda\\lib\\site-packages (from pycaret) (0.24.4)\n",
      "Requirement already satisfied: imbalanced-learn>=0.7.0 in d:\\anaconda\\lib\\site-packages (from pycaret) (0.7.0)\n",
      "Requirement already satisfied: threadpoolctl>=2.0.0 in d:\\anaconda\\lib\\site-packages (from scikit-learn==0.23.2->pycaret) (2.1.0)\n",
      "Requirement already satisfied: scipy>=0.19.1 in d:\\anaconda\\lib\\site-packages (from scikit-learn==0.23.2->pycaret) (1.6.1)\n",
      "Requirement already satisfied: six in d:\\anaconda\\lib\\site-packages (from catboost>=0.23.2->pycaret) (1.15.0)\n",
      "Requirement already satisfied: graphviz in d:\\anaconda\\lib\\site-packages (from catboost>=0.23.2->pycaret) (0.16)\n",
      "Requirement already satisfied: colorlover>=0.2.1 in d:\\anaconda\\lib\\site-packages (from cufflinks>=0.17.0->pycaret) (0.3.0)\n",
      "Requirement already satisfied: setuptools>=34.4.1 in c:\\users\\sathish\\appdata\\roaming\\python\\python38\\site-packages (from cufflinks>=0.17.0->pycaret) (54.1.2)\n",
      "Requirement already satisfied: decorator in d:\\anaconda\\lib\\site-packages (from IPython->pycaret) (4.4.2)\n",
      "Requirement already satisfied: prompt-toolkit!=3.0.0,!=3.0.1,<3.1.0,>=2.0.0 in d:\\anaconda\\lib\\site-packages (from IPython->pycaret) (3.0.17)\n",
      "Requirement already satisfied: traitlets>=4.2 in d:\\anaconda\\lib\\site-packages (from IPython->pycaret) (5.0.5)\n",
      "Requirement already satisfied: colorama in d:\\anaconda\\lib\\site-packages (from IPython->pycaret) (0.4.4)\n",
      "Requirement already satisfied: pickleshare in d:\\anaconda\\lib\\site-packages (from IPython->pycaret) (0.7.5)\n",
      "Requirement already satisfied: backcall in d:\\anaconda\\lib\\site-packages (from IPython->pycaret) (0.2.0)\n",
      "Requirement already satisfied: jedi>=0.16 in d:\\anaconda\\lib\\site-packages (from IPython->pycaret) (0.17.2)\n",
      "Requirement already satisfied: pygments in d:\\anaconda\\lib\\site-packages (from IPython->pycaret) (2.8.1)\n",
      "Requirement already satisfied: ipykernel>=4.5.1 in d:\\anaconda\\lib\\site-packages (from ipywidgets->pycaret) (5.3.4)\n",
      "Requirement already satisfied: widgetsnbextension~=3.5.0 in d:\\anaconda\\lib\\site-packages (from ipywidgets->pycaret) (3.5.1)\n",
      "Requirement already satisfied: jupyterlab-widgets>=1.0.0 in d:\\anaconda\\lib\\site-packages (from ipywidgets->pycaret) (1.0.0)\n",
      "Requirement already satisfied: nbformat>=4.2.0 in d:\\anaconda\\lib\\site-packages (from ipywidgets->pycaret) (5.1.2)\n",
      "Requirement already satisfied: jupyter-client in d:\\anaconda\\lib\\site-packages (from ipykernel>=4.5.1->ipywidgets->pycaret) (6.1.7)\n",
      "Requirement already satisfied: tornado>=4.2 in d:\\anaconda\\lib\\site-packages (from ipykernel>=4.5.1->ipywidgets->pycaret) (6.1)\n",
      "Requirement already satisfied: parso<0.8.0,>=0.7.0 in d:\\anaconda\\lib\\site-packages (from jedi>=0.16->IPython->pycaret) (0.7.0)\n",
      "Requirement already satisfied: wheel in c:\\users\\sathish\\appdata\\roaming\\python\\python38\\site-packages (from lightgbm>=2.3.1->pycaret) (0.36.2)\n",
      "Requirement already satisfied: jsonschema!=2.5.0,>=2.4 in d:\\anaconda\\lib\\site-packages (from nbformat>=4.2.0->ipywidgets->pycaret) (3.2.0)\n",
      "Requirement already satisfied: jupyter-core in d:\\anaconda\\lib\\site-packages (from nbformat>=4.2.0->ipywidgets->pycaret) (4.7.1)\n",
      "Requirement already satisfied: ipython-genutils in d:\\anaconda\\lib\\site-packages (from nbformat>=4.2.0->ipywidgets->pycaret) (0.2.0)\n",
      "Requirement already satisfied: pyrsistent>=0.14.0 in c:\\users\\sathish\\appdata\\roaming\\python\\python38\\site-packages (from jsonschema!=2.5.0,>=2.4->nbformat>=4.2.0->ipywidgets->pycaret) (0.15.7)\n",
      "Requirement already satisfied: attrs>=17.4.0 in d:\\anaconda\\lib\\site-packages (from jsonschema!=2.5.0,>=2.4->nbformat>=4.2.0->ipywidgets->pycaret) (20.3.0)\n",
      "Requirement already satisfied: python-dateutil>=2.7.3 in d:\\anaconda\\lib\\site-packages (from pandas->pycaret) (2.8.1)\n",
      "Requirement already satisfied: pytz>=2017.3 in d:\\anaconda\\lib\\site-packages (from pandas->pycaret) (2021.1)\n",
      "Requirement already satisfied: htmlmin>=0.1.12 in d:\\anaconda\\lib\\site-packages (from pandas-profiling>=2.8.0->pycaret) (0.1.12)\n",
      "Requirement already satisfied: confuse>=1.0.0 in d:\\anaconda\\lib\\site-packages (from pandas-profiling>=2.8.0->pycaret) (1.4.0)\n",
      "Requirement already satisfied: phik>=0.10.0 in d:\\anaconda\\lib\\site-packages (from pandas-profiling>=2.8.0->pycaret) (0.11.0)\n",
      "Requirement already satisfied: visions[type_image_path]==0.6.0 in d:\\anaconda\\lib\\site-packages (from pandas-profiling>=2.8.0->pycaret) (0.6.0)\n",
      "Requirement already satisfied: tqdm>=4.48.2 in d:\\anaconda\\lib\\site-packages (from pandas-profiling>=2.8.0->pycaret) (4.59.0)\n",
      "Requirement already satisfied: jinja2>=2.11.1 in d:\\anaconda\\lib\\site-packages (from pandas-profiling>=2.8.0->pycaret) (2.11.3)\n",
      "Requirement already satisfied: missingno>=0.4.2 in d:\\anaconda\\lib\\site-packages (from pandas-profiling>=2.8.0->pycaret) (0.4.2)\n",
      "Requirement already satisfied: tangled-up-in-unicode>=0.0.6 in d:\\anaconda\\lib\\site-packages (from pandas-profiling>=2.8.0->pycaret) (0.0.6)\n",
      "Requirement already satisfied: requests>=2.24.0 in d:\\anaconda\\lib\\site-packages (from pandas-profiling>=2.8.0->pycaret) (2.25.1)\n",
      "Requirement already satisfied: networkx>=2.4 in d:\\anaconda\\lib\\site-packages (from visions[type_image_path]==0.6.0->pandas-profiling>=2.8.0->pycaret) (2.5)\n",
      "Requirement already satisfied: Pillow in d:\\anaconda\\lib\\site-packages (from visions[type_image_path]==0.6.0->pandas-profiling>=2.8.0->pycaret) (8.1.2)\n",
      "Requirement already satisfied: imagehash in d:\\anaconda\\lib\\site-packages (from visions[type_image_path]==0.6.0->pandas-profiling>=2.8.0->pycaret) (4.2.0)\n",
      "Requirement already satisfied: pyyaml in c:\\users\\sathish\\appdata\\roaming\\python\\python38\\site-packages (from confuse>=1.0.0->pandas-profiling>=2.8.0->pycaret) (5.3)\n",
      "Requirement already satisfied: MarkupSafe>=0.23 in d:\\anaconda\\lib\\site-packages (from jinja2>=2.11.1->pandas-profiling>=2.8.0->pycaret) (1.1.1)\n",
      "Requirement already satisfied: cycler>=0.10 in d:\\anaconda\\lib\\site-packages (from matplotlib->pycaret) (0.10.0)\n",
      "Requirement already satisfied: pyparsing!=2.0.4,!=2.1.2,!=2.1.6,>=2.0.3 in d:\\anaconda\\lib\\site-packages (from matplotlib->pycaret) (2.4.7)\n",
      "Requirement already satisfied: kiwisolver>=1.0.1 in d:\\anaconda\\lib\\site-packages (from matplotlib->pycaret) (1.3.1)\n",
      "Requirement already satisfied: numba>=0.38.1 in d:\\anaconda\\lib\\site-packages (from phik>=0.10.0->pandas-profiling>=2.8.0->pycaret) (0.53.0)\n",
      "Requirement already satisfied: llvmlite<0.37,>=0.36.0rc1 in d:\\anaconda\\lib\\site-packages (from numba>=0.38.1->phik>=0.10.0->pandas-profiling>=2.8.0->pycaret) (0.36.0)\n",
      "Requirement already satisfied: retrying>=1.3.3 in d:\\anaconda\\lib\\site-packages (from plotly>=4.4.1->pycaret) (1.3.3)\n",
      "Requirement already satisfied: wcwidth in d:\\anaconda\\lib\\site-packages (from prompt-toolkit!=3.0.0,!=3.0.1,<3.1.0,>=2.0.0->IPython->pycaret) (0.2.5)\n",
      "Requirement already satisfied: certifi>=2017.4.17 in d:\\anaconda\\lib\\site-packages (from requests>=2.24.0->pandas-profiling>=2.8.0->pycaret) (2020.12.5)\n",
      "Requirement already satisfied: idna<3,>=2.5 in d:\\anaconda\\lib\\site-packages (from requests>=2.24.0->pandas-profiling>=2.8.0->pycaret) (2.10)\n",
      "Requirement already satisfied: chardet<5,>=3.0.2 in d:\\anaconda\\lib\\site-packages (from requests>=2.24.0->pandas-profiling>=2.8.0->pycaret) (4.0.0)\n",
      "Requirement already satisfied: urllib3<1.27,>=1.21.1 in d:\\anaconda\\lib\\site-packages (from requests>=2.24.0->pandas-profiling>=2.8.0->pycaret) (1.26.4)\n",
      "Requirement already satisfied: notebook>=4.4.1 in d:\\anaconda\\lib\\site-packages (from widgetsnbextension~=3.5.0->ipywidgets->pycaret) (6.2.0)\n",
      "Requirement already satisfied: nbconvert in d:\\anaconda\\lib\\site-packages (from notebook>=4.4.1->widgetsnbextension~=3.5.0->ipywidgets->pycaret) (6.0.7)\n",
      "Requirement already satisfied: Send2Trash>=1.5.0 in d:\\anaconda\\lib\\site-packages (from notebook>=4.4.1->widgetsnbextension~=3.5.0->ipywidgets->pycaret) (1.5.0)\n",
      "Requirement already satisfied: pyzmq>=17 in d:\\anaconda\\lib\\site-packages (from notebook>=4.4.1->widgetsnbextension~=3.5.0->ipywidgets->pycaret) (20.0.0)\n",
      "Requirement already satisfied: terminado>=0.8.3 in d:\\anaconda\\lib\\site-packages (from notebook>=4.4.1->widgetsnbextension~=3.5.0->ipywidgets->pycaret) (0.9.3)\n",
      "Requirement already satisfied: argon2-cffi in d:\\anaconda\\lib\\site-packages (from notebook>=4.4.1->widgetsnbextension~=3.5.0->ipywidgets->pycaret) (20.1.0)\n",
      "Requirement already satisfied: prometheus-client in d:\\anaconda\\lib\\site-packages (from notebook>=4.4.1->widgetsnbextension~=3.5.0->ipywidgets->pycaret) (0.9.0)\n",
      "Requirement already satisfied: pywin32>=1.0 in d:\\anaconda\\lib\\site-packages (from jupyter-core->nbformat>=4.2.0->ipywidgets->pycaret) (227)\n",
      "Requirement already satisfied: pywinpty>=0.5 in d:\\anaconda\\lib\\site-packages (from terminado>=0.8.3->notebook>=4.4.1->widgetsnbextension~=3.5.0->ipywidgets->pycaret) (0.5.7)\n",
      "Requirement already satisfied: cffi>=1.0.0 in d:\\anaconda\\lib\\site-packages (from argon2-cffi->notebook>=4.4.1->widgetsnbextension~=3.5.0->ipywidgets->pycaret) (1.14.5)\n",
      "Requirement already satisfied: pycparser in d:\\anaconda\\lib\\site-packages (from cffi>=1.0.0->argon2-cffi->notebook>=4.4.1->widgetsnbextension~=3.5.0->ipywidgets->pycaret) (2.20)\n",
      "Collecting Cython==0.29.14\n",
      "  Using cached Cython-0.29.14-cp38-cp38-win_amd64.whl (1.7 MB)\n",
      "Requirement already satisfied: smart-open>=1.8.1 in d:\\anaconda\\lib\\site-packages (from gensim->pycaret) (3.0.0)\n",
      "Requirement already satisfied: PyWavelets in d:\\anaconda\\lib\\site-packages (from imagehash->visions[type_image_path]==0.6.0->pandas-profiling>=2.8.0->pycaret) (1.1.1)\n",
      "Requirement already satisfied: sqlparse>=0.3.1 in d:\\anaconda\\lib\\site-packages (from mlflow->pycaret) (0.4.1)\n",
      "Requirement already satisfied: entrypoints in d:\\anaconda\\lib\\site-packages (from mlflow->pycaret) (0.3)\n",
      "Requirement already satisfied: databricks-cli>=0.8.7 in d:\\anaconda\\lib\\site-packages (from mlflow->pycaret) (0.14.1)\n",
      "Requirement already satisfied: waitress in d:\\anaconda\\lib\\site-packages (from mlflow->pycaret) (1.4.4)\n",
      "Requirement already satisfied: azure-storage-blob>=12.0.0 in d:\\anaconda\\lib\\site-packages (from mlflow->pycaret) (12.7.1)\n",
      "Requirement already satisfied: cloudpickle in d:\\anaconda\\lib\\site-packages (from mlflow->pycaret) (1.6.0)\n",
      "Requirement already satisfied: gitpython>=2.1.0 in d:\\anaconda\\lib\\site-packages (from mlflow->pycaret) (3.1.13)\n",
      "Requirement already satisfied: click>=7.0 in d:\\anaconda\\lib\\site-packages (from mlflow->pycaret) (7.1.2)\n",
      "Requirement already satisfied: querystring-parser in d:\\anaconda\\lib\\site-packages (from mlflow->pycaret) (1.2.4)\n",
      "Requirement already satisfied: protobuf>=3.6.0 in d:\\anaconda\\lib\\site-packages (from mlflow->pycaret) (3.14.0)\n",
      "Requirement already satisfied: Flask in d:\\anaconda\\lib\\site-packages (from mlflow->pycaret) (1.1.2)\n",
      "Requirement already satisfied: sqlalchemy in d:\\anaconda\\lib\\site-packages (from mlflow->pycaret) (1.3.23)\n",
      "Requirement already satisfied: alembic<=1.4.1 in d:\\anaconda\\lib\\site-packages (from mlflow->pycaret) (1.4.1)\n",
      "Requirement already satisfied: prometheus-flask-exporter in d:\\anaconda\\lib\\site-packages (from mlflow->pycaret) (0.18.1)\n",
      "Requirement already satisfied: docker>=4.0.0 in d:\\anaconda\\lib\\site-packages (from mlflow->pycaret) (4.4.1)\n",
      "Requirement already satisfied: Mako in d:\\anaconda\\lib\\site-packages (from alembic<=1.4.1->mlflow->pycaret) (1.1.4)\n",
      "Requirement already satisfied: python-editor>=0.3 in d:\\anaconda\\lib\\site-packages (from alembic<=1.4.1->mlflow->pycaret) (1.0.4)\n",
      "Requirement already satisfied: cryptography>=2.1.4 in d:\\anaconda\\lib\\site-packages (from azure-storage-blob>=12.0.0->mlflow->pycaret) (3.4.6)\n",
      "Requirement already satisfied: azure-core<2.0.0,>=1.10.0 in d:\\anaconda\\lib\\site-packages (from azure-storage-blob>=12.0.0->mlflow->pycaret) (1.11.0)\n",
      "Requirement already satisfied: msrest>=0.6.18 in d:\\anaconda\\lib\\site-packages (from azure-storage-blob>=12.0.0->mlflow->pycaret) (0.6.21)\n",
      "Requirement already satisfied: tabulate>=0.7.7 in d:\\anaconda\\lib\\site-packages (from databricks-cli>=0.8.7->mlflow->pycaret) (0.8.7)\n",
      "Requirement already satisfied: websocket-client>=0.32.0 in d:\\anaconda\\lib\\site-packages (from docker>=4.0.0->mlflow->pycaret) (0.57.0)\n",
      "Requirement already satisfied: gitdb<5,>=4.0.1 in d:\\anaconda\\lib\\site-packages (from gitpython>=2.1.0->mlflow->pycaret) (4.0.5)\n",
      "Requirement already satisfied: smmap<4,>=3.0.1 in d:\\anaconda\\lib\\site-packages (from gitdb<5,>=4.0.1->gitpython>=2.1.0->mlflow->pycaret) (3.0.5)\n",
      "Requirement already satisfied: isodate>=0.6.0 in d:\\anaconda\\lib\\site-packages (from msrest>=0.6.18->azure-storage-blob>=12.0.0->mlflow->pycaret) (0.6.0)\n",
      "Requirement already satisfied: requests-oauthlib>=0.5.0 in d:\\anaconda\\lib\\site-packages (from msrest>=0.6.18->azure-storage-blob>=12.0.0->mlflow->pycaret) (1.3.0)\n",
      "Requirement already satisfied: oauthlib>=3.0.0 in d:\\anaconda\\lib\\site-packages (from requests-oauthlib>=0.5.0->msrest>=0.6.18->azure-storage-blob>=12.0.0->mlflow->pycaret) (3.1.0)\n",
      "Requirement already satisfied: itsdangerous>=0.24 in d:\\anaconda\\lib\\site-packages (from Flask->mlflow->pycaret) (1.1.0)\n",
      "Requirement already satisfied: Werkzeug>=0.15 in d:\\anaconda\\lib\\site-packages (from Flask->mlflow->pycaret) (1.0.1)\n",
      "Requirement already satisfied: bleach in d:\\anaconda\\lib\\site-packages (from nbconvert->notebook>=4.4.1->widgetsnbextension~=3.5.0->ipywidgets->pycaret) (3.3.0)\n",
      "Requirement already satisfied: pandocfilters>=1.4.1 in d:\\anaconda\\lib\\site-packages (from nbconvert->notebook>=4.4.1->widgetsnbextension~=3.5.0->ipywidgets->pycaret) (1.4.3)\n",
      "Requirement already satisfied: jupyterlab-pygments in d:\\anaconda\\lib\\site-packages (from nbconvert->notebook>=4.4.1->widgetsnbextension~=3.5.0->ipywidgets->pycaret) (0.1.2)\n",
      "Requirement already satisfied: nbclient<0.6.0,>=0.5.0 in d:\\anaconda\\lib\\site-packages (from nbconvert->notebook>=4.4.1->widgetsnbextension~=3.5.0->ipywidgets->pycaret) (0.5.1)\n",
      "Requirement already satisfied: defusedxml in d:\\anaconda\\lib\\site-packages (from nbconvert->notebook>=4.4.1->widgetsnbextension~=3.5.0->ipywidgets->pycaret) (0.7.1)\n",
      "Requirement already satisfied: testpath in d:\\anaconda\\lib\\site-packages (from nbconvert->notebook>=4.4.1->widgetsnbextension~=3.5.0->ipywidgets->pycaret) (0.4.4)\n",
      "Requirement already satisfied: mistune<2,>=0.8.1 in d:\\anaconda\\lib\\site-packages (from nbconvert->notebook>=4.4.1->widgetsnbextension~=3.5.0->ipywidgets->pycaret) (0.8.4)\n",
      "Requirement already satisfied: nest-asyncio in d:\\anaconda\\lib\\site-packages (from nbclient<0.6.0,>=0.5.0->nbconvert->notebook>=4.4.1->widgetsnbextension~=3.5.0->ipywidgets->pycaret) (1.4.2)\n",
      "Requirement already satisfied: async-generator in d:\\anaconda\\lib\\site-packages (from nbclient<0.6.0,>=0.5.0->nbconvert->notebook>=4.4.1->widgetsnbextension~=3.5.0->ipywidgets->pycaret) (1.10)\n",
      "Requirement already satisfied: packaging in d:\\anaconda\\lib\\site-packages (from bleach->nbconvert->notebook>=4.4.1->widgetsnbextension~=3.5.0->ipywidgets->pycaret) (20.9)\n",
      "Requirement already satisfied: webencodings in d:\\anaconda\\lib\\site-packages (from bleach->nbconvert->notebook>=4.4.1->widgetsnbextension~=3.5.0->ipywidgets->pycaret) (0.5.1)\n",
      "Requirement already satisfied: regex in d:\\anaconda\\lib\\site-packages (from nltk->pycaret) (2021.3.17)\n",
      "Requirement already satisfied: numexpr in d:\\anaconda\\lib\\site-packages (from pyLDAvis->pycaret) (2.7.3)\n",
      "Requirement already satisfied: future in d:\\anaconda\\lib\\site-packages (from pyLDAvis->pycaret) (0.18.2)\n",
      "Requirement already satisfied: funcy in d:\\anaconda\\lib\\site-packages (from pyLDAvis->pycaret) (1.15)\n",
      "Requirement already satisfied: statsmodels in d:\\anaconda\\lib\\site-packages (from pyod->pycaret) (0.12.2)\n",
      "Requirement already satisfied: suod in d:\\anaconda\\lib\\site-packages (from pyod->pycaret) (0.0.6)\n",
      "Requirement already satisfied: combo in d:\\anaconda\\lib\\site-packages (from pyod->pycaret) (0.1.2)\n",
      "Requirement already satisfied: spacy-legacy<3.1.0,>=3.0.0 in d:\\anaconda\\lib\\site-packages (from spacy->pycaret) (3.0.1)\n",
      "Requirement already satisfied: wasabi<1.1.0,>=0.8.1 in d:\\anaconda\\lib\\site-packages (from spacy->pycaret) (0.8.2)\n",
      "Requirement already satisfied: cymem<2.1.0,>=2.0.2 in d:\\anaconda\\lib\\site-packages (from spacy->pycaret) (2.0.5)\n",
      "Requirement already satisfied: preshed<3.1.0,>=3.0.2 in d:\\anaconda\\lib\\site-packages (from spacy->pycaret) (3.0.5)\n",
      "Requirement already satisfied: blis<0.8.0,>=0.4.0 in c:\\users\\sathish\\appdata\\roaming\\python\\python38\\site-packages (from spacy->pycaret) (0.7.4)\n",
      "Requirement already satisfied: pydantic<1.8.0,>=1.7.1 in c:\\users\\sathish\\appdata\\roaming\\python\\python38\\site-packages (from spacy->pycaret) (1.7.3)\n",
      "Requirement already satisfied: srsly<3.0.0,>=2.4.0 in d:\\anaconda\\lib\\site-packages (from spacy->pycaret) (2.4.0)\n",
      "Requirement already satisfied: thinc<8.1.0,>=8.0.0 in c:\\users\\sathish\\appdata\\roaming\\python\\python38\\site-packages (from spacy->pycaret) (8.0.1)\n",
      "Requirement already satisfied: murmurhash<1.1.0,>=0.28.0 in d:\\anaconda\\lib\\site-packages (from spacy->pycaret) (1.0.5)\n",
      "Requirement already satisfied: catalogue<2.1.0,>=2.0.1 in d:\\anaconda\\lib\\site-packages (from spacy->pycaret) (2.0.1)\n",
      "Requirement already satisfied: typer<0.4.0,>=0.3.0 in c:\\users\\sathish\\appdata\\roaming\\python\\python38\\site-packages (from spacy->pycaret) (0.3.2)\n",
      "Requirement already satisfied: pathy in c:\\users\\sathish\\appdata\\roaming\\python\\python38\\site-packages (from spacy->pycaret) (0.3.5)\n",
      "Requirement already satisfied: patsy>=0.5 in d:\\anaconda\\lib\\site-packages (from statsmodels->pyod->pycaret) (0.5.1)\n",
      "Requirement already satisfied: psutil in d:\\anaconda\\lib\\site-packages (from suod->pyod->pycaret) (5.8.0)\n",
      "Requirement already satisfied: pynndescent>=0.5 in d:\\anaconda\\lib\\site-packages (from umap-learn->pycaret) (0.5.2)\n",
      "Installing collected packages: Cython\n",
      "  Attempting uninstall: Cython\n",
      "    Found existing installation: Cython 0.29.22\n",
      "    Uninstalling Cython-0.29.22:\n"
     ]
    }
   ],
   "source": [
    "!pip install pycaret"
   ]
  },
  {
   "cell_type": "code",
   "execution_count": 2,
   "metadata": {
    "cell_id": "00000-ddcc57d3-63a6-4ca7-9833-5b82e92fbcb6",
    "deepnote_cell_type": "code",
    "deepnote_to_be_reexecuted": false,
    "execution_millis": 1,
    "execution_start": 1614243455029,
    "source_hash": "b3e7b553"
   },
   "outputs": [
    {
     "name": "stdout",
     "output_type": "stream",
     "text": [
      "      Successfully uninstalled Cython-0.29.22\n",
      "Successfully installed Cython-0.29.14\n"
     ]
    }
   ],
   "source": [
    "import pandas as pd\n",
    "import numpy as np\n",
    "import matplotlib.pyplot as plt\n",
    "import seaborn as sns\n",
    "import plotly.express as px\n",
    "from imblearn.over_sampling import SMOTE\n",
    "from pycaret.classification import *\n",
    "from sklearn.model_selection import train_test_split\n",
    "from sklearn.ensemble import RandomForestClassifier\n",
    "from sklearn.metrics import accuracy_score,classification_report,mean_squared_error,mean_absolute_error,confusion_matrix\n",
    "from sklearn.model_selection import RandomizedSearchCV\n",
    "from sklearn.preprocessing import MinMaxScaler\n",
    "import pickle"
   ]
  },
  {
   "cell_type": "code",
   "execution_count": 3,
   "metadata": {
    "cell_id": "00001-907b2669-93c9-4728-8c75-23b76f1fb566",
    "deepnote_cell_type": "code",
    "deepnote_to_be_reexecuted": false,
    "execution_millis": 9,
    "execution_start": 1614242632626,
    "source_hash": "f71f2acb"
   },
   "outputs": [
    {
     "ename": "FileNotFoundError",
     "evalue": "[Errno 2] No such file or directory: '../input/stroke-prediction-dataset/healthcare-dataset-stroke-data.csv'",
     "output_type": "error",
     "traceback": [
      "\u001b[1;31m---------------------------------------------------------------------------\u001b[0m",
      "\u001b[1;31mFileNotFoundError\u001b[0m                         Traceback (most recent call last)",
      "\u001b[1;32m<ipython-input-3-5d1fe19195ee>\u001b[0m in \u001b[0;36m<module>\u001b[1;34m\u001b[0m\n\u001b[1;32m----> 1\u001b[1;33m \u001b[0mdf\u001b[0m \u001b[1;33m=\u001b[0m \u001b[0mpd\u001b[0m\u001b[1;33m.\u001b[0m\u001b[0mread_csv\u001b[0m\u001b[1;33m(\u001b[0m\u001b[1;34m\"../input/stroke-prediction-dataset/healthcare-dataset-stroke-data.csv\"\u001b[0m\u001b[1;33m)\u001b[0m\u001b[1;33m\u001b[0m\u001b[1;33m\u001b[0m\u001b[0m\n\u001b[0m",
      "\u001b[1;32mD:\\Anaconda\\lib\\site-packages\\pandas\\io\\parsers.py\u001b[0m in \u001b[0;36mread_csv\u001b[1;34m(filepath_or_buffer, sep, delimiter, header, names, index_col, usecols, squeeze, prefix, mangle_dupe_cols, dtype, engine, converters, true_values, false_values, skipinitialspace, skiprows, skipfooter, nrows, na_values, keep_default_na, na_filter, verbose, skip_blank_lines, parse_dates, infer_datetime_format, keep_date_col, date_parser, dayfirst, cache_dates, iterator, chunksize, compression, thousands, decimal, lineterminator, quotechar, quoting, doublequote, escapechar, comment, encoding, dialect, error_bad_lines, warn_bad_lines, delim_whitespace, low_memory, memory_map, float_precision, storage_options)\u001b[0m\n\u001b[0;32m    608\u001b[0m     \u001b[0mkwds\u001b[0m\u001b[1;33m.\u001b[0m\u001b[0mupdate\u001b[0m\u001b[1;33m(\u001b[0m\u001b[0mkwds_defaults\u001b[0m\u001b[1;33m)\u001b[0m\u001b[1;33m\u001b[0m\u001b[1;33m\u001b[0m\u001b[0m\n\u001b[0;32m    609\u001b[0m \u001b[1;33m\u001b[0m\u001b[0m\n\u001b[1;32m--> 610\u001b[1;33m     \u001b[1;32mreturn\u001b[0m \u001b[0m_read\u001b[0m\u001b[1;33m(\u001b[0m\u001b[0mfilepath_or_buffer\u001b[0m\u001b[1;33m,\u001b[0m \u001b[0mkwds\u001b[0m\u001b[1;33m)\u001b[0m\u001b[1;33m\u001b[0m\u001b[1;33m\u001b[0m\u001b[0m\n\u001b[0m\u001b[0;32m    611\u001b[0m \u001b[1;33m\u001b[0m\u001b[0m\n\u001b[0;32m    612\u001b[0m \u001b[1;33m\u001b[0m\u001b[0m\n",
      "\u001b[1;32mD:\\Anaconda\\lib\\site-packages\\pandas\\io\\parsers.py\u001b[0m in \u001b[0;36m_read\u001b[1;34m(filepath_or_buffer, kwds)\u001b[0m\n\u001b[0;32m    460\u001b[0m \u001b[1;33m\u001b[0m\u001b[0m\n\u001b[0;32m    461\u001b[0m     \u001b[1;31m# Create the parser.\u001b[0m\u001b[1;33m\u001b[0m\u001b[1;33m\u001b[0m\u001b[1;33m\u001b[0m\u001b[0m\n\u001b[1;32m--> 462\u001b[1;33m     \u001b[0mparser\u001b[0m \u001b[1;33m=\u001b[0m \u001b[0mTextFileReader\u001b[0m\u001b[1;33m(\u001b[0m\u001b[0mfilepath_or_buffer\u001b[0m\u001b[1;33m,\u001b[0m \u001b[1;33m**\u001b[0m\u001b[0mkwds\u001b[0m\u001b[1;33m)\u001b[0m\u001b[1;33m\u001b[0m\u001b[1;33m\u001b[0m\u001b[0m\n\u001b[0m\u001b[0;32m    463\u001b[0m \u001b[1;33m\u001b[0m\u001b[0m\n\u001b[0;32m    464\u001b[0m     \u001b[1;32mif\u001b[0m \u001b[0mchunksize\u001b[0m \u001b[1;32mor\u001b[0m \u001b[0miterator\u001b[0m\u001b[1;33m:\u001b[0m\u001b[1;33m\u001b[0m\u001b[1;33m\u001b[0m\u001b[0m\n",
      "\u001b[1;32mD:\\Anaconda\\lib\\site-packages\\pandas\\io\\parsers.py\u001b[0m in \u001b[0;36m__init__\u001b[1;34m(self, f, engine, **kwds)\u001b[0m\n\u001b[0;32m    817\u001b[0m             \u001b[0mself\u001b[0m\u001b[1;33m.\u001b[0m\u001b[0moptions\u001b[0m\u001b[1;33m[\u001b[0m\u001b[1;34m\"has_index_names\"\u001b[0m\u001b[1;33m]\u001b[0m \u001b[1;33m=\u001b[0m \u001b[0mkwds\u001b[0m\u001b[1;33m[\u001b[0m\u001b[1;34m\"has_index_names\"\u001b[0m\u001b[1;33m]\u001b[0m\u001b[1;33m\u001b[0m\u001b[1;33m\u001b[0m\u001b[0m\n\u001b[0;32m    818\u001b[0m \u001b[1;33m\u001b[0m\u001b[0m\n\u001b[1;32m--> 819\u001b[1;33m         \u001b[0mself\u001b[0m\u001b[1;33m.\u001b[0m\u001b[0m_engine\u001b[0m \u001b[1;33m=\u001b[0m \u001b[0mself\u001b[0m\u001b[1;33m.\u001b[0m\u001b[0m_make_engine\u001b[0m\u001b[1;33m(\u001b[0m\u001b[0mself\u001b[0m\u001b[1;33m.\u001b[0m\u001b[0mengine\u001b[0m\u001b[1;33m)\u001b[0m\u001b[1;33m\u001b[0m\u001b[1;33m\u001b[0m\u001b[0m\n\u001b[0m\u001b[0;32m    820\u001b[0m \u001b[1;33m\u001b[0m\u001b[0m\n\u001b[0;32m    821\u001b[0m     \u001b[1;32mdef\u001b[0m \u001b[0mclose\u001b[0m\u001b[1;33m(\u001b[0m\u001b[0mself\u001b[0m\u001b[1;33m)\u001b[0m\u001b[1;33m:\u001b[0m\u001b[1;33m\u001b[0m\u001b[1;33m\u001b[0m\u001b[0m\n",
      "\u001b[1;32mD:\\Anaconda\\lib\\site-packages\\pandas\\io\\parsers.py\u001b[0m in \u001b[0;36m_make_engine\u001b[1;34m(self, engine)\u001b[0m\n\u001b[0;32m   1048\u001b[0m             )\n\u001b[0;32m   1049\u001b[0m         \u001b[1;31m# error: Too many arguments for \"ParserBase\"\u001b[0m\u001b[1;33m\u001b[0m\u001b[1;33m\u001b[0m\u001b[1;33m\u001b[0m\u001b[0m\n\u001b[1;32m-> 1050\u001b[1;33m         \u001b[1;32mreturn\u001b[0m \u001b[0mmapping\u001b[0m\u001b[1;33m[\u001b[0m\u001b[0mengine\u001b[0m\u001b[1;33m]\u001b[0m\u001b[1;33m(\u001b[0m\u001b[0mself\u001b[0m\u001b[1;33m.\u001b[0m\u001b[0mf\u001b[0m\u001b[1;33m,\u001b[0m \u001b[1;33m**\u001b[0m\u001b[0mself\u001b[0m\u001b[1;33m.\u001b[0m\u001b[0moptions\u001b[0m\u001b[1;33m)\u001b[0m  \u001b[1;31m# type: ignore[call-arg]\u001b[0m\u001b[1;33m\u001b[0m\u001b[1;33m\u001b[0m\u001b[0m\n\u001b[0m\u001b[0;32m   1051\u001b[0m \u001b[1;33m\u001b[0m\u001b[0m\n\u001b[0;32m   1052\u001b[0m     \u001b[1;32mdef\u001b[0m \u001b[0m_failover_to_python\u001b[0m\u001b[1;33m(\u001b[0m\u001b[0mself\u001b[0m\u001b[1;33m)\u001b[0m\u001b[1;33m:\u001b[0m\u001b[1;33m\u001b[0m\u001b[1;33m\u001b[0m\u001b[0m\n",
      "\u001b[1;32mD:\\Anaconda\\lib\\site-packages\\pandas\\io\\parsers.py\u001b[0m in \u001b[0;36m__init__\u001b[1;34m(self, src, **kwds)\u001b[0m\n\u001b[0;32m   1865\u001b[0m \u001b[1;33m\u001b[0m\u001b[0m\n\u001b[0;32m   1866\u001b[0m         \u001b[1;31m# open handles\u001b[0m\u001b[1;33m\u001b[0m\u001b[1;33m\u001b[0m\u001b[1;33m\u001b[0m\u001b[0m\n\u001b[1;32m-> 1867\u001b[1;33m         \u001b[0mself\u001b[0m\u001b[1;33m.\u001b[0m\u001b[0m_open_handles\u001b[0m\u001b[1;33m(\u001b[0m\u001b[0msrc\u001b[0m\u001b[1;33m,\u001b[0m \u001b[0mkwds\u001b[0m\u001b[1;33m)\u001b[0m\u001b[1;33m\u001b[0m\u001b[1;33m\u001b[0m\u001b[0m\n\u001b[0m\u001b[0;32m   1868\u001b[0m         \u001b[1;32massert\u001b[0m \u001b[0mself\u001b[0m\u001b[1;33m.\u001b[0m\u001b[0mhandles\u001b[0m \u001b[1;32mis\u001b[0m \u001b[1;32mnot\u001b[0m \u001b[1;32mNone\u001b[0m\u001b[1;33m\u001b[0m\u001b[1;33m\u001b[0m\u001b[0m\n\u001b[0;32m   1869\u001b[0m         \u001b[1;32mfor\u001b[0m \u001b[0mkey\u001b[0m \u001b[1;32min\u001b[0m \u001b[1;33m(\u001b[0m\u001b[1;34m\"storage_options\"\u001b[0m\u001b[1;33m,\u001b[0m \u001b[1;34m\"encoding\"\u001b[0m\u001b[1;33m,\u001b[0m \u001b[1;34m\"memory_map\"\u001b[0m\u001b[1;33m,\u001b[0m \u001b[1;34m\"compression\"\u001b[0m\u001b[1;33m)\u001b[0m\u001b[1;33m:\u001b[0m\u001b[1;33m\u001b[0m\u001b[1;33m\u001b[0m\u001b[0m\n",
      "\u001b[1;32mD:\\Anaconda\\lib\\site-packages\\pandas\\io\\parsers.py\u001b[0m in \u001b[0;36m_open_handles\u001b[1;34m(self, src, kwds)\u001b[0m\n\u001b[0;32m   1360\u001b[0m         \u001b[0mLet\u001b[0m \u001b[0mthe\u001b[0m \u001b[0mreaders\u001b[0m \u001b[0mopen\u001b[0m \u001b[0mIOHanldes\u001b[0m \u001b[0mafter\u001b[0m \u001b[0mthey\u001b[0m \u001b[0mare\u001b[0m \u001b[0mdone\u001b[0m \u001b[1;32mwith\u001b[0m \u001b[0mtheir\u001b[0m \u001b[0mpotential\u001b[0m \u001b[0mraises\u001b[0m\u001b[1;33m.\u001b[0m\u001b[1;33m\u001b[0m\u001b[1;33m\u001b[0m\u001b[0m\n\u001b[0;32m   1361\u001b[0m         \"\"\"\n\u001b[1;32m-> 1362\u001b[1;33m         self.handles = get_handle(\n\u001b[0m\u001b[0;32m   1363\u001b[0m             \u001b[0msrc\u001b[0m\u001b[1;33m,\u001b[0m\u001b[1;33m\u001b[0m\u001b[1;33m\u001b[0m\u001b[0m\n\u001b[0;32m   1364\u001b[0m             \u001b[1;34m\"r\"\u001b[0m\u001b[1;33m,\u001b[0m\u001b[1;33m\u001b[0m\u001b[1;33m\u001b[0m\u001b[0m\n",
      "\u001b[1;32mD:\\Anaconda\\lib\\site-packages\\pandas\\io\\common.py\u001b[0m in \u001b[0;36mget_handle\u001b[1;34m(path_or_buf, mode, encoding, compression, memory_map, is_text, errors, storage_options)\u001b[0m\n\u001b[0;32m    640\u001b[0m                 \u001b[0merrors\u001b[0m \u001b[1;33m=\u001b[0m \u001b[1;34m\"replace\"\u001b[0m\u001b[1;33m\u001b[0m\u001b[1;33m\u001b[0m\u001b[0m\n\u001b[0;32m    641\u001b[0m             \u001b[1;31m# Encoding\u001b[0m\u001b[1;33m\u001b[0m\u001b[1;33m\u001b[0m\u001b[1;33m\u001b[0m\u001b[0m\n\u001b[1;32m--> 642\u001b[1;33m             handle = open(\n\u001b[0m\u001b[0;32m    643\u001b[0m                 \u001b[0mhandle\u001b[0m\u001b[1;33m,\u001b[0m\u001b[1;33m\u001b[0m\u001b[1;33m\u001b[0m\u001b[0m\n\u001b[0;32m    644\u001b[0m                 \u001b[0mioargs\u001b[0m\u001b[1;33m.\u001b[0m\u001b[0mmode\u001b[0m\u001b[1;33m,\u001b[0m\u001b[1;33m\u001b[0m\u001b[1;33m\u001b[0m\u001b[0m\n",
      "\u001b[1;31mFileNotFoundError\u001b[0m: [Errno 2] No such file or directory: '../input/stroke-prediction-dataset/healthcare-dataset-stroke-data.csv'"
     ]
    }
   ],
   "source": [
    "df = pd.read_csv(\"../input/stroke-prediction-dataset/healthcare-dataset-stroke-data.csv\")"
   ]
  },
  {
   "cell_type": "code",
   "execution_count": null,
   "metadata": {
    "cell_id": "00002-a4745b23-4785-4c13-83ae-5d9c82a56e71",
    "deepnote_cell_type": "code",
    "deepnote_to_be_reexecuted": false,
    "execution_millis": 64,
    "execution_start": 1614242632681,
    "source_hash": "f804c160"
   },
   "outputs": [],
   "source": [
    "df"
   ]
  },
  {
   "cell_type": "code",
   "execution_count": null,
   "metadata": {
    "cell_id": "00003-05b56673-ad3d-460e-b9d2-e194fd9db0af",
    "deepnote_cell_type": "code",
    "deepnote_to_be_reexecuted": false,
    "execution_millis": 6,
    "execution_start": 1614242632743,
    "source_hash": "f3dd26da"
   },
   "outputs": [],
   "source": [
    "df.isnull().sum()"
   ]
  },
  {
   "cell_type": "code",
   "execution_count": null,
   "metadata": {
    "cell_id": "00004-59f68955-eb04-4b98-a6e2-933ed87ab5b0",
    "deepnote_cell_type": "code",
    "deepnote_to_be_reexecuted": false,
    "execution_millis": 10,
    "execution_start": 1614242632774,
    "source_hash": "f8453a83"
   },
   "outputs": [],
   "source": [
    "df.corr()"
   ]
  },
  {
   "cell_type": "code",
   "execution_count": null,
   "metadata": {
    "cell_id": "00005-782448c4-517a-4717-8bc6-02c3d9aadb8c",
    "deepnote_cell_type": "code",
    "deepnote_to_be_reexecuted": false,
    "execution_millis": 1546,
    "execution_start": 1614242632780,
    "source_hash": "7621698b"
   },
   "outputs": [],
   "source": [
    "px.histogram(df,x='work_type',color='work_type',template='plotly_dark')"
   ]
  },
  {
   "cell_type": "code",
   "execution_count": null,
   "metadata": {
    "cell_id": "00006-b19de986-79a3-4075-9b5b-9560ab380687",
    "deepnote_cell_type": "code",
    "deepnote_to_be_reexecuted": false,
    "execution_millis": 41,
    "execution_start": 1614242634322,
    "scrolled": true,
    "source_hash": "fd8c4a46"
   },
   "outputs": [],
   "source": [
    "px.histogram(df,x='smoking_status',color='smoking_status',template='plotly_dark')"
   ]
  },
  {
   "cell_type": "code",
   "execution_count": null,
   "metadata": {
    "cell_id": "00007-3b671a04-f046-4a21-b4ae-4b276d0a4ce4",
    "deepnote_cell_type": "code",
    "deepnote_to_be_reexecuted": false,
    "execution_millis": 7,
    "execution_start": 1614242634359,
    "source_hash": "dd42a857"
   },
   "outputs": [],
   "source": [
    "df[\"stroke\"].value_counts()"
   ]
  },
  {
   "cell_type": "code",
   "execution_count": null,
   "metadata": {
    "cell_id": "00008-c6352bcf-f162-45c6-85bc-21a54276fc70",
    "deepnote_cell_type": "code",
    "deepnote_to_be_reexecuted": false,
    "execution_millis": 8344,
    "execution_start": 1614242634365,
    "source_hash": "21491851"
   },
   "outputs": [],
   "source": [
    "plt.xlabel(\"Age\")\n",
    "plt.ylabel(\"BMI\")\n",
    "plt.xlim(0,40)\n",
    "plt.bar(df[\"age\"],df[\"bmi\"])"
   ]
  },
  {
   "cell_type": "code",
   "execution_count": null,
   "metadata": {
    "cell_id": "00009-0397577c-9f94-4e08-a371-dc65750218f5",
    "deepnote_cell_type": "code",
    "deepnote_to_be_reexecuted": false,
    "execution_millis": 8859,
    "execution_start": 1614242642716,
    "source_hash": "da86c761",
    "tags": []
   },
   "outputs": [],
   "source": [
    "plt.xlabel(\"Age\")\n",
    "plt.ylabel(\"BMI\")\n",
    "plt.xlim(40,80)\n",
    "plt.bar(df[\"age\"],df[\"bmi\"])"
   ]
  },
  {
   "cell_type": "code",
   "execution_count": null,
   "metadata": {
    "cell_id": "00010-925057aa-1bf8-4576-b92d-07ef4644bb48",
    "deepnote_cell_type": "code",
    "deepnote_to_be_reexecuted": false,
    "execution_millis": 7,
    "execution_start": 1614242651579,
    "source_hash": "1bd18b6b",
    "tags": []
   },
   "outputs": [],
   "source": [
    "df.dropna(inplace=True)"
   ]
  },
  {
   "cell_type": "code",
   "execution_count": null,
   "metadata": {
    "cell_id": "00011-73f66de7-5c4a-4b66-804d-6bc7e77d1ac2",
    "deepnote_cell_type": "code",
    "deepnote_to_be_reexecuted": false,
    "execution_millis": 3,
    "execution_start": 1614242651591,
    "source_hash": "d9489b6f",
    "tags": []
   },
   "outputs": [],
   "source": [
    "df = df.reset_index(drop = True)"
   ]
  },
  {
   "cell_type": "code",
   "execution_count": null,
   "metadata": {
    "cell_id": "00012-3f3ddd2a-a160-4959-9164-8d40f43fea36",
    "deepnote_cell_type": "code",
    "deepnote_to_be_reexecuted": false,
    "execution_millis": 82,
    "execution_start": 1614242651595,
    "source_hash": "f804c160",
    "tags": []
   },
   "outputs": [],
   "source": [
    "df"
   ]
  },
  {
   "cell_type": "code",
   "execution_count": null,
   "metadata": {
    "cell_id": "00013-2d681e1c-ac8b-4533-b17d-fbee4a204d88",
    "deepnote_cell_type": "code",
    "deepnote_to_be_reexecuted": false,
    "execution_millis": 7,
    "execution_start": 1614242651672,
    "source_hash": "a7b047cb",
    "tags": []
   },
   "outputs": [],
   "source": [
    "gender = pd.get_dummies(df[\"gender\"])\n",
    "ever_married = pd.get_dummies(df[\"ever_married\"])\n",
    "work_type = pd.get_dummies(df[\"work_type\"])\n",
    "residence_type = pd.get_dummies(df[\"Residence_type\"])\n",
    "smoking_status = pd.get_dummies(df[\"smoking_status\"])\n",
    "df[\"gender_Female\"] = gender[\"Female\"]\n",
    "df[\"gender_Male\"] = gender[\"Male\"]\n",
    "df[\"gender_Other\"] = gender[\"Other\"]\n",
    "df[\"work_type_Govt_Job\"] = work_type[\"Govt_job\"]\n",
    "df[\"work_type_Never_Worked\"] = work_type[\"Never_worked\"]\n",
    "df[\"work_type_Private\"] = work_type[\"Private\"]\n",
    "df[\"work_type_Self-Employed\"] = work_type[\"Self-employed\"]\n",
    "df[\"work_type_children\"] = work_type[\"children\"]\n",
    "df[\"ever_married_Yes\"]=ever_married[\"Yes\"]\n",
    "df[\"ever_married_No\"]=ever_married[\"No\"]\n",
    "df[\"residence_type_Urban\"]=residence_type[\"Urban\"]\n",
    "df[\"residence_type_Rural\"]=residence_type[\"Rural\"]\n",
    "df[\"smoking_status_Unknown\"] = smoking_status[\"Unknown\"]\n",
    "df[\"smoking_status_Formerly_Smoked\"] = smoking_status[\"formerly smoked\"]\n",
    "df[\"smoking_status_Never_Smoked\"] = smoking_status[\"never smoked\"]\n",
    "df[\"smoking_status_Smokes\"] = smoking_status[\"smokes\"]"
   ]
  },
  {
   "cell_type": "code",
   "execution_count": null,
   "metadata": {
    "cell_id": "00014-a8690261-bb63-4439-a19a-f659c9d287ef",
    "deepnote_cell_type": "code",
    "deepnote_to_be_reexecuted": false,
    "execution_millis": 83,
    "execution_start": 1614242651729,
    "source_hash": "f804c160",
    "tags": []
   },
   "outputs": [],
   "source": [
    "df"
   ]
  },
  {
   "cell_type": "code",
   "execution_count": null,
   "metadata": {
    "cell_id": "00015-8cb86c75-74d8-4fbd-8c69-378932526407",
    "deepnote_cell_type": "code",
    "deepnote_to_be_reexecuted": false,
    "execution_millis": 0,
    "execution_start": 1614242651801,
    "source_hash": "29bf27c3",
    "tags": []
   },
   "outputs": [],
   "source": [
    "columns_to_drop = [\"id\",\"gender\",\"ever_married\",\"work_type\",\"smoking_status\",\"Residence_type\"]\n",
    "df.drop(columns_to_drop,axis = 1,inplace= True)"
   ]
  },
  {
   "cell_type": "code",
   "execution_count": null,
   "metadata": {
    "cell_id": "00016-4c9ed28f-a65b-440b-a642-4c8e6484ef1c",
    "deepnote_cell_type": "code",
    "deepnote_to_be_reexecuted": false,
    "execution_millis": 67,
    "execution_start": 1614242651808,
    "source_hash": "f804c160",
    "tags": []
   },
   "outputs": [],
   "source": [
    "df"
   ]
  },
  {
   "cell_type": "code",
   "execution_count": null,
   "metadata": {
    "cell_id": "00017-e6a93f89-f4e9-4bcd-9f4d-c8cc872b809b",
    "deepnote_cell_type": "code",
    "deepnote_to_be_reexecuted": false,
    "execution_millis": 1,
    "execution_start": 1614242651869,
    "source_hash": "7a8a7f08",
    "tags": []
   },
   "outputs": [],
   "source": [
    "X = df.drop(\"stroke\",axis = 1)\n",
    "Y = df[\"stroke\"]"
   ]
  },
  {
   "cell_type": "code",
   "execution_count": null,
   "metadata": {
    "cell_id": "00017-4ba5b752-2087-4412-ac09-31b7f38a1112",
    "deepnote_cell_type": "code",
    "deepnote_to_be_reexecuted": false,
    "execution_millis": 20,
    "execution_start": 1614242651872,
    "source_hash": "d2c0a8e2",
    "tags": []
   },
   "outputs": [],
   "source": [
    "sm = SMOTE(random_state=27,k_neighbors=10)\n",
    "X, Y = sm.fit_resample(X,Y)"
   ]
  },
  {
   "cell_type": "code",
   "execution_count": null,
   "metadata": {
    "cell_id": "00019-b26de026-d03c-4162-887a-9c28cd1b2112",
    "deepnote_cell_type": "code",
    "deepnote_to_be_reexecuted": false,
    "execution_millis": 5,
    "execution_start": 1614242651941,
    "source_hash": "af8ac83a",
    "tags": []
   },
   "outputs": [],
   "source": [
    "Y.value_counts()"
   ]
  },
  {
   "cell_type": "code",
   "execution_count": null,
   "metadata": {
    "cell_id": "00020-cf79df03-071c-4bbe-b3ca-46143d483eb0",
    "deepnote_cell_type": "code",
    "deepnote_to_be_reexecuted": false,
    "execution_millis": 2,
    "execution_start": 1614242841612,
    "source_hash": "1d5a2441",
    "tags": []
   },
   "outputs": [],
   "source": [
    "df_final = pd.concat([X,Y],axis = 1)"
   ]
  },
  {
   "cell_type": "code",
   "execution_count": null,
   "metadata": {
    "cell_id": "00020-94e2f1dd-1e0d-49ba-aaeb-bd2825d4a8f3",
    "deepnote_cell_type": "code",
    "deepnote_to_be_reexecuted": false,
    "execution_millis": 3,
    "execution_start": 1614242964083,
    "source_hash": "f69b178a",
    "tags": []
   },
   "outputs": [],
   "source": [
    "train,test = train_test_split(df_final, test_size=0.25,random_state= 27)"
   ]
  },
  {
   "cell_type": "code",
   "execution_count": null,
   "metadata": {
    "cell_id": "00022-31a3a854-9859-4acb-b209-e419ce2e5d79",
    "deepnote_cell_type": "code",
    "deepnote_to_be_reexecuted": false,
    "execution_millis": 3625,
    "execution_start": 1614242965441,
    "source_hash": "e92bb692",
    "tags": []
   },
   "outputs": [],
   "source": [
    "experiment = setup(\n",
    "    data = train,\n",
    "    target = 'stroke',\n",
    "    normalize = True\n",
    ")"
   ]
  },
  {
   "cell_type": "code",
   "execution_count": null,
   "metadata": {
    "cell_id": "00023-eb8f9e22-9150-4498-989d-b79ab18e6579",
    "deepnote_cell_type": "code",
    "deepnote_to_be_reexecuted": false,
    "execution_millis": 39301,
    "execution_start": 1614242991170,
    "source_hash": "35e80024",
    "tags": []
   },
   "outputs": [],
   "source": [
    "compare_models()"
   ]
  },
  {
   "cell_type": "code",
   "execution_count": null,
   "metadata": {
    "cell_id": "00024-6f91695b-e5e2-4871-b3df-dc7da563266f",
    "deepnote_cell_type": "code",
    "deepnote_to_be_reexecuted": false,
    "execution_millis": 6,
    "execution_start": 1614243461658,
    "source_hash": "69e7ccda",
    "tags": []
   },
   "outputs": [],
   "source": [
    "X = MinMaxScaler().fit_transform(X)"
   ]
  },
  {
   "cell_type": "code",
   "execution_count": null,
   "metadata": {
    "cell_id": "00025-b6818b9a-67a7-4eed-a827-a2a72dd816e7",
    "deepnote_cell_type": "code",
    "deepnote_to_be_reexecuted": false,
    "execution_millis": 1,
    "execution_start": 1614243495701,
    "source_hash": "7887f86b",
    "tags": []
   },
   "outputs": [],
   "source": [
    "X_train, X_test, Y_train, Y_test = train_test_split(X,Y,test_size = 0.25, random_state = 42)"
   ]
  },
  {
   "cell_type": "code",
   "execution_count": null,
   "metadata": {
    "cell_id": "00026-48f04577-4359-48d5-aec5-66c252e7b33a",
    "deepnote_cell_type": "code",
    "deepnote_to_be_reexecuted": false,
    "execution_millis": 12,
    "execution_start": 1614243502458,
    "source_hash": "8423b81d",
    "tags": []
   },
   "outputs": [],
   "source": [
    "print('Training Features Shape:', X_train.shape)\n",
    "print('Training Labels Shape:', X_test.shape)\n",
    "print('Testing Features Shape:', Y_train.shape)\n",
    "print('Testing Labels Shape:', Y_test.shape)"
   ]
  },
  {
   "cell_type": "code",
   "execution_count": null,
   "metadata": {
    "cell_id": "00027-68ae17e2-9bed-4e6a-90c4-e7774d2a902c",
    "deepnote_cell_type": "code",
    "deepnote_to_be_reexecuted": false,
    "execution_millis": 1,
    "execution_start": 1614243513689,
    "source_hash": "bbc5b617",
    "tags": []
   },
   "outputs": [],
   "source": [
    "rf = RandomForestClassifier(n_estimators = 1000, random_state = 42)"
   ]
  },
  {
   "cell_type": "code",
   "execution_count": null,
   "metadata": {
    "cell_id": "00028-b6dd0472-8d66-4ca9-89c1-d017cc80eb98",
    "deepnote_cell_type": "code",
    "deepnote_to_be_reexecuted": false,
    "execution_millis": 5108,
    "execution_start": 1614243521622,
    "source_hash": "cfbd301f",
    "tags": []
   },
   "outputs": [],
   "source": [
    "rf.fit(X_train,Y_train)"
   ]
  },
  {
   "cell_type": "code",
   "execution_count": null,
   "metadata": {
    "cell_id": "00029-edf31910-f6de-4a25-8215-32cc2b6939a5",
    "deepnote_cell_type": "code",
    "deepnote_to_be_reexecuted": false,
    "execution_millis": 342,
    "execution_start": 1614243527715,
    "source_hash": "bd57bbda",
    "tags": []
   },
   "outputs": [],
   "source": [
    "Y_pred = rf.predict(X_test)"
   ]
  },
  {
   "cell_type": "code",
   "execution_count": null,
   "metadata": {
    "cell_id": "00030-a519bbb9-b909-40b8-8720-7daaf9023895",
    "deepnote_cell_type": "code",
    "deepnote_to_be_reexecuted": false,
    "execution_millis": 7,
    "execution_start": 1614243533454,
    "source_hash": "8f306fb7",
    "tags": []
   },
   "outputs": [],
   "source": [
    "print(accuracy_score(Y_pred,Y_test))"
   ]
  },
  {
   "cell_type": "code",
   "execution_count": null,
   "metadata": {
    "_kg_hide-output": false,
    "cell_id": "00031-50a19c72-65c5-479e-a8f1-b2c566af03ff",
    "deepnote_cell_type": "code",
    "deepnote_to_be_reexecuted": false,
    "execution_millis": 5,
    "execution_start": 1614243558085,
    "source_hash": "8a113883",
    "tags": []
   },
   "outputs": [],
   "source": [
    "n_estimators = [int(x) for x in np.linspace(start = 200, stop = 2000, num = 10)]\n",
    "# Number of features to consider at every split\n",
    "max_features = ['auto', 'sqrt']\n",
    "# Maximum number of levels in tree\n",
    "max_depth = [int(x) for x in np.linspace(10, 150, num = 11)]\n",
    "max_depth.append(None)\n",
    "# Minimum number of samples required to split a node\n",
    "min_samples_split = [2, 5,8,10]\n",
    "# Minimum number of samples required at each leaf node\n",
    "min_samples_leaf = [1, 2, 4,8]\n",
    "# Method of selecting samples for training each tree\n",
    "bootstrap = [True, False]\n",
    "# Create the random grid\n",
    "random_grid = {'n_estimators': n_estimators,\n",
    "               'max_features': max_features,\n",
    "               'max_depth': max_depth,\n",
    "               'min_samples_split': min_samples_split,\n",
    "               'min_samples_leaf': min_samples_leaf,\n",
    "               'bootstrap': bootstrap}\n",
    "print(random_grid)"
   ]
  },
  {
   "cell_type": "code",
   "execution_count": null,
   "metadata": {
    "cell_id": "00032-9d7acbde-1f7a-4afe-a1c7-3b67335e23e9",
    "deepnote_cell_type": "code",
    "deepnote_to_be_reexecuted": false,
    "execution_millis": 1,
    "execution_start": 1614243599857,
    "source_hash": "f2d2efd1",
    "tags": []
   },
   "outputs": [],
   "source": [
    "rf1 = RandomForestClassifier()\n",
    "# Random search of parameters, using 3 fold cross validation, \n",
    "# search across 100 different combinations, and use all available cores\n",
    "rf_random = RandomizedSearchCV(estimator = rf1, param_distributions = random_grid, n_iter = 25, cv = 2, verbose=2, random_state=42, n_jobs = -1)"
   ]
  },
  {
   "cell_type": "code",
   "execution_count": null,
   "metadata": {
    "cell_id": "00033-f9db1877-16b7-4caa-a9f8-6025f48362de",
    "deepnote_cell_type": "code",
    "deepnote_to_be_reexecuted": false,
    "execution_millis": 112012,
    "execution_start": 1614243610733,
    "source_hash": "5edc08a4",
    "tags": []
   },
   "outputs": [],
   "source": [
    "rf_random.fit(X_train, Y_train)"
   ]
  },
  {
   "cell_type": "code",
   "execution_count": null,
   "metadata": {
    "cell_id": "00034-5680a038-3b12-4728-9678-7a18a5d331d8",
    "deepnote_cell_type": "code",
    "deepnote_to_be_reexecuted": false,
    "execution_millis": 1,
    "execution_start": 1614243805176,
    "source_hash": "bdb41631",
    "tags": []
   },
   "outputs": [],
   "source": [
    "rf_random.best_params_"
   ]
  },
  {
   "cell_type": "code",
   "execution_count": null,
   "metadata": {
    "cell_id": "00035-c1e5dda0-d206-477e-93e8-db9116c4de58",
    "deepnote_cell_type": "code",
    "deepnote_to_be_reexecuted": false,
    "execution_millis": 122,
    "execution_start": 1614243844273,
    "source_hash": "3ca8c2d4",
    "tags": []
   },
   "outputs": [],
   "source": [
    "predictions = rf_random.predict(X_test)"
   ]
  },
  {
   "cell_type": "code",
   "execution_count": null,
   "metadata": {
    "cell_id": "00036-d0f63b6d-b979-4f96-9d61-9ba8d9f975d0",
    "deepnote_cell_type": "code",
    "deepnote_to_be_reexecuted": false,
    "execution_millis": 7,
    "execution_start": 1614243844406,
    "source_hash": "dab8d13",
    "tags": []
   },
   "outputs": [],
   "source": [
    "print(accuracy_score(predictions,Y_test))"
   ]
  },
  {
   "cell_type": "code",
   "execution_count": null,
   "metadata": {},
   "outputs": [],
   "source": [
    "pickle.dump(rf_random,open(\"models/model_stroke.pkl\",\"wb\"))"
   ]
  }
 ],
 "metadata": {
  "kernelspec": {
   "display_name": "Python 3",
   "language": "python",
   "name": "python3"
  },
  "language_info": {
   "codemirror_mode": {
    "name": "ipython",
    "version": 3
   },
   "file_extension": ".py",
   "mimetype": "text/x-python",
   "name": "python",
   "nbconvert_exporter": "python",
   "pygments_lexer": "ipython3",
   "version": "3.8.8"
  }
 },
 "nbformat": 4,
 "nbformat_minor": 4
}
